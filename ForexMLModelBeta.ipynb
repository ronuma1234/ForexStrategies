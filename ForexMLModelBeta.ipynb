{
 "cells": [
  {
   "cell_type": "code",
   "execution_count": 40,
   "id": "0aec5c68",
   "metadata": {},
   "outputs": [],
   "source": [
    "# By Robert Onuma\n",
    "# This program uses Neural Networks to identify uptrends and down trends (based on 30 pip differences) in\n",
    "#financial markets.\n",
    "# I made sure the parameters for the NN model were reduced and the example data frame was short as well\n",
    "#to make sure that the program was more computationally friendly to anyone running it. However, it did \n",
    "#drastically reduce the accuracy of the test data as a result.\n",
    "import pandas as pd\n",
    "from ta.utils import dropna\n",
    "from ta.volatility import BollingerBands\n",
    "from ta.momentum import RSIIndicator\n",
    "from xgboost import XGBClassifier\n",
    "from sklearn.metrics import accuracy_score, log_loss\n",
    "from sklearn.metrics import confusion_matrix\n",
    "from sklearn.metrics import classification_report\n",
    "from matplotlib import pyplot\n",
    "from xgboost import plot_importance\n",
    "from sklearn.feature_selection import SelectFromModel\n",
    "from sklearn.neural_network import MLPClassifier\n"
   ]
  },
  {
   "cell_type": "code",
   "execution_count": 41,
   "id": "f504137d",
   "metadata": {},
   "outputs": [],
   "source": [
    "def clean_NA(df1):\n",
    "    df1.reset_index(drop=True, inplace=True)\n",
    "    df1.isna().sum()\n",
    "    #df1.tail()\n",
    "    return df1"
   ]
  },
  {
   "cell_type": "code",
   "execution_count": 42,
   "id": "acdcd4f3",
   "metadata": {},
   "outputs": [],
   "source": [
    "def add_bolinger(df1):\n",
    "    # Initialize Bollinger Bands Indicator\n",
    "    indicator_bb = BollingerBands(close=df1[\"close\"], window=20, window_dev=2)\n",
    "\n",
    "    # Add Bollinger Bands features\n",
    "    df1['bb_bbm'] = indicator_bb.bollinger_mavg()\n",
    "    df1['bb_bbh'] = indicator_bb.bollinger_hband()\n",
    "    df1['bb_bbl'] = indicator_bb.bollinger_lband()\n",
    "\n",
    "    # Add Bollinger Band high indicator\n",
    "    df1['bb_bbhi'] = indicator_bb.bollinger_hband_indicator()\n",
    "\n",
    "    # Add Bollinger Band low indicator\n",
    "    df1['bb_bbli'] = indicator_bb.bollinger_lband_indicator()\n",
    "    \n",
    "    #df1[df1['bb_bbli']==1]\n",
    "    return df1"
   ]
  },
  {
   "cell_type": "code",
   "execution_count": 43,
   "id": "093dae9b",
   "metadata": {},
   "outputs": [],
   "source": [
    "def add_rsi(df1):\n",
    "    indicator_rsi = RSIIndicator(close=df1[\"close\"], window=14)\n",
    "    df1['rsi'] = indicator_rsi.rsi()\n",
    "    return df1"
   ]
  },
  {
   "cell_type": "code",
   "execution_count": 44,
   "id": "a05bb36c",
   "metadata": {},
   "outputs": [],
   "source": [
    "\n",
    "def my_target(df1, df_len):\n",
    "    pipdiff = 0.00300\n",
    "    length = len(df1)\n",
    "    high = list(df1['high'])\n",
    "    low = list(df1['low'])\n",
    "    close = list(df1['close'])\n",
    "    open = list(df1['open'])\n",
    "    trendcat = [None] * length\n",
    "    j = 0\n",
    "    for i in range(df_len):\n",
    "        j = i+1\n",
    "        continue_flag = True\n",
    "        trendcat[i] = 0\n",
    "        #print(close[i] - pipdiff)\n",
    "        \n",
    "        while j < df_len and continue_flag == True:\n",
    "            #print(high[j])\n",
    "            \n",
    "            if low[j] < close[i] - pipdiff and high[j] < close[i] + pipdiff:\n",
    "                trendcat[i] = 1 #downtrend\n",
    "                continue_flag = False\n",
    "            elif low[j] > close[i] - pipdiff and high[j] > close[i] + pipdiff:\n",
    "                trendcat[i] = 2 #uptrend\n",
    "                continue_flag = False\n",
    "            else:\n",
    "                trendcat[i] = 0 #no clear trend\n",
    "            j=j+1\n",
    "        #print()\n",
    "        #print()\n",
    "    return trendcat"
   ]
  },
  {
   "cell_type": "code",
   "execution_count": 45,
   "id": "cf63f21d",
   "metadata": {},
   "outputs": [],
   "source": [
    "def extract_time(df1, df_len):\n",
    "    time_col = [None] * df_len\n",
    "    for i in range(df_len):\n",
    "        split_date = df1['date'][i].split(' ')\n",
    "        time_col[i] = split_date[1]\n",
    "    df1['time'] = time_col\n",
    "    #df1.head()\n",
    "    return df1"
   ]
  },
  {
   "cell_type": "code",
   "execution_count": 46,
   "id": "fe53deda",
   "metadata": {},
   "outputs": [],
   "source": [
    "def filter_time(df1, df2, df_len):\n",
    "    for i in range(df_len):\n",
    "        if df1['time'][i] < '09:00:00' or df1['time'][i] > '18:00:00':\n",
    "            df2 = df2.drop([i], axis=0)\n",
    "        \n",
    "    return df2"
   ]
  },
  {
   "cell_type": "code",
   "execution_count": 47,
   "id": "246acb6a",
   "metadata": {},
   "outputs": [],
   "source": [
    "def weak_classifier(df1):\n",
    "    attributes = ['rsi', 'bb_bbm', 'bb_bbh', 'bb_bbl', 'bb_bbhi', 'bb_bbli']\n",
    "    X = df1[attributes]\n",
    "    y = df1['Target']\n",
    "\n",
    "    train_pct_index = int(0.7 * len(X))\n",
    "    X_train, X_test = X[:train_pct_index], X[train_pct_index:]\n",
    "    y_train, y_test = y[:train_pct_index], y[train_pct_index:]\n",
    "\n",
    "    model = XGBClassifier()\n",
    "    model.fit(X_train, y_train)\n",
    "    pred_train = model.predict(X_train)\n",
    "    pred_test = model.predict(X_test)\n",
    "\n",
    "    acc_train = accuracy_score(y_train, pred_train)\n",
    "    acc_test = accuracy_score(y_test, pred_test)\n",
    "    print('****Train Results****')\n",
    "    print(\"Accuracy: {:.4%}\".format(acc_train))\n",
    "    print('****Test Results****')\n",
    "    print(\"Accuracy: {:.4%}\".format(acc_test))\n",
    "    \n",
    "    matrix_train = confusion_matrix(y_train, pred_train)\n",
    "    matrix_test = confusion_matrix(y_test, pred_test)\n",
    "\n",
    "    print(matrix_train)\n",
    "    print(matrix_test)\n",
    "\n",
    "    report_train = classification_report(y_train, pred_train)\n",
    "    report_test = classification_report(y_test, pred_test)\n",
    "\n",
    "    print(report_train)\n",
    "    print(report_test)\n",
    "    #choices = [2, 0, -1, +1]\n",
    "    ##choices = [2, 0, 3, +1]\n",
    "    print(model.get_booster().feature_names)\n",
    "    \n",
    "    #pyplot.bar(range(len(model.feature_importances_)), model.feature_importances_)\n",
    "    #plot feature importance\n",
    "    plot_importance(model)\n",
    "    pyplot.show()\n",
    "    print(model.get_booster().feature_names)\n",
    "    \n",
    "    return model\n",
    "    "
   ]
  },
  {
   "cell_type": "code",
   "execution_count": 54,
   "id": "c1829147",
   "metadata": {},
   "outputs": [],
   "source": [
    "def NN_model(df1):\n",
    "    attributes = ['rsi', 'bb_bbm', 'bb_bbh', 'bb_bbl', 'bb_bbhi', 'bb_bbli']\n",
    "    X = df1[attributes]\n",
    "    y = df1['Target']\n",
    "\n",
    "    train_pct_index = int(0.7 * len(X))\n",
    "    X_train, X_test = X[:train_pct_index], X[train_pct_index:]\n",
    "    y_train, y_test = y[:train_pct_index], y[train_pct_index:]\n",
    "    \n",
    "    model = MLPClassifier(hidden_layer_sizes = (3, 3), max_iter=400)\n",
    "    model.fit(X_train, y_train)\n",
    "    pred_train = model.predict(X_train)\n",
    "    pred_test = model.predict(X_test)\n",
    "\n",
    "    acc_train = accuracy_score(y_train, pred_train)\n",
    "    acc_test = accuracy_score(y_test, pred_test)\n",
    "    print('****Train Results****')\n",
    "    print(\"Accuracy: {:.4%}\".format(acc_train))\n",
    "    print('****Test Results****')\n",
    "    print(\"Accuracy: {:.4%}\".format(acc_test))\n",
    "    \n",
    "    matrix_train = confusion_matrix(y_train, pred_train)\n",
    "    matrix_test = confusion_matrix(y_test, pred_test)\n",
    "\n",
    "    print(matrix_train)\n",
    "    print(matrix_test)\n",
    "\n",
    "    report_train = classification_report(y_train, pred_train)\n",
    "    report_test = classification_report(y_test, pred_test)\n",
    "\n",
    "    print(report_train)\n",
    "    print(report_test)\n",
    "    \n",
    "    return model"
   ]
  },
  {
   "cell_type": "code",
   "execution_count": 55,
   "id": "20b43351",
   "metadata": {},
   "outputs": [],
   "source": [
    "def main():\n",
    "    df = pd.read_csv(\"EURUSD_2023-01-30-00_00.csv\")\n",
    "    df_len = len(df)\n",
    "    df = clean_NA(df)\n",
    "    df = add_bolinger(df)\n",
    "    df = add_rsi(df)\n",
    "    df['Target'] = my_target(df, df_len)\n",
    "    df['Target'].hist()\n",
    "    df = extract_time(df, df_len)\n",
    "    \n",
    "    df_trade_time = df.copy()\n",
    "    df_trade_time = filter_time(df, df_trade_time, df_len)\n",
    "    \n",
    "    df_train_data = df_trade_time[:722]\n",
    "    \n",
    "    model = NN_model(df_train_data)\n",
    "    "
   ]
  },
  {
   "cell_type": "code",
   "execution_count": 56,
   "id": "d486e79f",
   "metadata": {},
   "outputs": [
    {
     "name": "stdout",
     "output_type": "stream",
     "text": [
      "****Train Results****\n",
      "Accuracy: 97.6238%\n",
      "****Test Results****\n",
      "Accuracy: 16.5899%\n",
      "[[493   0]\n",
      " [ 12   0]]\n",
      "[[ 36   0]\n",
      " [181   0]]\n",
      "              precision    recall  f1-score   support\n",
      "\n",
      "           1       0.98      1.00      0.99       493\n",
      "           2       0.00      0.00      0.00        12\n",
      "\n",
      "    accuracy                           0.98       505\n",
      "   macro avg       0.49      0.50      0.49       505\n",
      "weighted avg       0.95      0.98      0.96       505\n",
      "\n",
      "              precision    recall  f1-score   support\n",
      "\n",
      "           1       0.17      1.00      0.28        36\n",
      "           2       0.00      0.00      0.00       181\n",
      "\n",
      "    accuracy                           0.17       217\n",
      "   macro avg       0.08      0.50      0.14       217\n",
      "weighted avg       0.03      0.17      0.05       217\n",
      "\n"
     ]
    },
    {
     "name": "stderr",
     "output_type": "stream",
     "text": [
      "/Users/robertwillfindyou/opt/anaconda3/lib/python3.9/site-packages/sklearn/metrics/_classification.py:1248: UndefinedMetricWarning: Precision and F-score are ill-defined and being set to 0.0 in labels with no predicted samples. Use `zero_division` parameter to control this behavior.\n",
      "  _warn_prf(average, modifier, msg_start, len(result))\n",
      "/Users/robertwillfindyou/opt/anaconda3/lib/python3.9/site-packages/sklearn/metrics/_classification.py:1248: UndefinedMetricWarning: Precision and F-score are ill-defined and being set to 0.0 in labels with no predicted samples. Use `zero_division` parameter to control this behavior.\n",
      "  _warn_prf(average, modifier, msg_start, len(result))\n",
      "/Users/robertwillfindyou/opt/anaconda3/lib/python3.9/site-packages/sklearn/metrics/_classification.py:1248: UndefinedMetricWarning: Precision and F-score are ill-defined and being set to 0.0 in labels with no predicted samples. Use `zero_division` parameter to control this behavior.\n",
      "  _warn_prf(average, modifier, msg_start, len(result))\n",
      "/Users/robertwillfindyou/opt/anaconda3/lib/python3.9/site-packages/sklearn/metrics/_classification.py:1248: UndefinedMetricWarning: Precision and F-score are ill-defined and being set to 0.0 in labels with no predicted samples. Use `zero_division` parameter to control this behavior.\n",
      "  _warn_prf(average, modifier, msg_start, len(result))\n",
      "/Users/robertwillfindyou/opt/anaconda3/lib/python3.9/site-packages/sklearn/metrics/_classification.py:1248: UndefinedMetricWarning: Precision and F-score are ill-defined and being set to 0.0 in labels with no predicted samples. Use `zero_division` parameter to control this behavior.\n",
      "  _warn_prf(average, modifier, msg_start, len(result))\n",
      "/Users/robertwillfindyou/opt/anaconda3/lib/python3.9/site-packages/sklearn/metrics/_classification.py:1248: UndefinedMetricWarning: Precision and F-score are ill-defined and being set to 0.0 in labels with no predicted samples. Use `zero_division` parameter to control this behavior.\n",
      "  _warn_prf(average, modifier, msg_start, len(result))\n"
     ]
    },
    {
     "data": {
      "image/png": "[encoded data removed]",
      "text/plain": [
       "<Figure size 432x288 with 1 Axes>"
      ]
     },
     "metadata": {
      "needs_background": "light"
     },
     "output_type": "display_data"
    }
   ],
   "source": [
    "main()"
   ]
  },
  {
   "cell_type": "code",
   "execution_count": null,
   "id": "0be932c8",
   "metadata": {},
   "outputs": [],
   "source": []
  }
 ],
 "metadata": {
  "kernelspec": {
   "display_name": "Python 3 (ipykernel)",
   "language": "python",
   "name": "python3"
  },
  "language_info": {
   "codemirror_mode": {
    "name": "ipython",
    "version": 3
   },
   "file_extension": ".py",
   "mimetype": "text/x-python",
   "name": "python",
   "nbconvert_exporter": "python",
   "pygments_lexer": "ipython3",
   "version": "3.9.7"
  }
 },
 "nbformat": 4,
 "nbformat_minor": 5
}
